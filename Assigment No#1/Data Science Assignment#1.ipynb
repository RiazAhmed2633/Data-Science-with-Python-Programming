{
 "cells": [
  {
   "cell_type": "code",
   "execution_count": 19,
   "id": "7a2c7a00",
   "metadata": {},
   "outputs": [
    {
     "name": "stdout",
     "output_type": "stream",
     "text": [
      " Twinkle, twinkle, little star,\n",
      "\t  How I wonder what you are!\n",
      "\t\t\t Up above the word so high,\n",
      "\t\t\t Like a dianenod in sky\n",
      " Twinkle, twinkle,little sar,\n",
      "\t How I wonder what you are! \n"
     ]
    }
   ],
   "source": [
    "#1\n",
    "\n",
    "print(\" Twinkle, twinkle, little star,\\n\\t  How I wonder what you are!\\n\\t\\t\\t Up above the word so high,\\n\\t\\t\\t Like a dianenod in sky\\n Twinkle, twinkle,little sar,\\n\\t How I wonder what you are! \");"
   ]
  },
  {
   "cell_type": "code",
   "execution_count": 8,
   "id": "12996e7d",
   "metadata": {},
   "outputs": [
    {
     "name": "stdout",
     "output_type": "stream",
     "text": [
      "Python Version\n",
      "3.9.7 (default, Sep 16 2021, 16:59:28) [MSC v.1916 64 bit (AMD64)]\n",
      "Version Info\n",
      "sys.version_info(major=3, minor=9, micro=7, releaselevel='final', serial=0)\n"
     ]
    }
   ],
   "source": [
    "#2\n",
    "\n",
    "import sys\n",
    "print(\"Python Version\");\n",
    "print(sys.version);\n",
    "print(\"Version Info\");\n",
    "print(sys.version_info);"
   ]
  },
  {
   "cell_type": "code",
   "execution_count": 13,
   "id": "5365af6f",
   "metadata": {},
   "outputs": [
    {
     "name": "stdout",
     "output_type": "stream",
     "text": [
      "Current Date and Time \n",
      "Date: 29-12-21 Time: 16:38:44\n"
     ]
    }
   ],
   "source": [
    "#3\n",
    "\n",
    "import datetime\n",
    "now=datetime.datetime.now();\n",
    "print(\"Current Date and Time \");\n",
    "print(now.strftime(\"Date: %d-%m-%y Time: %H:%M:%S\"));"
   ]
  },
  {
   "cell_type": "code",
   "execution_count": null,
   "id": "c5d6a3bc",
   "metadata": {},
   "outputs": [],
   "source": [
    "#4\n",
    "\n",
    "from math import pi\n",
    "r = float(input (\"Input the radius of the circle : \"))\n",
    "print (\"The area of the circle with radius \" + str(r) + \" is: \" + str(pi * r**2))"
   ]
  },
  {
   "cell_type": "code",
   "execution_count": 11,
   "id": "efbe71f7",
   "metadata": {},
   "outputs": [
    {
     "name": "stdout",
     "output_type": "stream",
     "text": [
      "Enter Your First Name:ali\n",
      "Enter Your Last Name:ahmed\n",
      "Hello\tahmed ali\n"
     ]
    }
   ],
   "source": [
    "#5\n",
    "\n",
    "FirstName=input(\"Enter Your First Name:\");\n",
    "LastName=input(\"Enter Your Last Name:\");\n",
    "print(\"Hello\\t\"     +LastName+ \" \" +FirstName);"
   ]
  },
  {
   "cell_type": "code",
   "execution_count": 16,
   "id": "77c86806",
   "metadata": {},
   "outputs": [
    {
     "name": "stdout",
     "output_type": "stream",
     "text": [
      "Enter first Number:10\n",
      "Enter Second Number:10\n",
      "Sum of Two Numbers Are: 20\n"
     ]
    }
   ],
   "source": [
    "#6\n",
    "\n",
    "FirstNumber=input(\"Enter first Number:\");\n",
    "SecondNumber=input(\"Enter Second Number:\");\n",
    "sum=int(FirstNumber) + int(SecondNumber);\n",
    "print(\"Sum of Two Numbers Are:\"   ,sum);\n"
   ]
  },
  {
   "cell_type": "code",
   "execution_count": null,
   "id": "e2cd06ba",
   "metadata": {},
   "outputs": [],
   "source": []
  }
 ],
 "metadata": {
  "kernelspec": {
   "display_name": "Python 3 (ipykernel)",
   "language": "python",
   "name": "python3"
  },
  "language_info": {
   "codemirror_mode": {
    "name": "ipython",
    "version": 3
   },
   "file_extension": ".py",
   "mimetype": "text/x-python",
   "name": "python",
   "nbconvert_exporter": "python",
   "pygments_lexer": "ipython3",
   "version": "3.9.7"
  }
 },
 "nbformat": 4,
 "nbformat_minor": 5
}
